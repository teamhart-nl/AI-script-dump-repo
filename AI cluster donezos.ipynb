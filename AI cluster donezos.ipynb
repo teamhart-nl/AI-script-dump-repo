{
 "cells": [
  {
   "cell_type": "code",
   "execution_count": 3,
   "metadata": {},
   "outputs": [
    {
     "name": "stdout",
     "output_type": "stream",
     "text": [
      "[nltk_data] Downloading package cmudict to\n",
      "[nltk_data]     C:\\Users\\20174721\\AppData\\Roaming\\nltk_data...\n",
      "[nltk_data]   Package cmudict is already up-to-date!\n"
     ]
    }
   ],
   "source": [
    "import nltk\n",
    "nltk.download('cmudict')\n",
    "arpabet = nltk.corpus.cmudict.dict()"
   ]
  },
  {
   "cell_type": "code",
   "execution_count": 4,
   "metadata": {},
   "outputs": [],
   "source": [
    "# setting environment variables\n",
    "credential_path = r\"C:\\Users\\20174721\\Downloads\\HART AI-0fa66f82ca14.json\"\n",
    "os.environ['GOOGLE_APPLICATION_CREDENTIALS'] = credential_path"
   ]
  },
  {
   "cell_type": "code",
   "execution_count": 5,
   "metadata": {},
   "outputs": [],
   "source": [
    "import six\n",
    "import io\n",
    "import os\n",
    "from google.cloud import translate_v2 as translate\n",
    "from google.cloud import speech\n",
    "from google.cloud import storage\n",
    "translate_client = translate.Client()"
   ]
  },
  {
   "cell_type": "code",
   "execution_count": 6,
   "metadata": {},
   "outputs": [],
   "source": [
    "def implicit():\n",
    "\n",
    "    # If you don't specify credentials when constructing the client, the\n",
    "    # client library will look for credentials in the environment.\n",
    "    storage_client = storage.Client()\n",
    "\n",
    "    # Make an authenticated API request\n",
    "    buckets = list(storage_client.list_buckets())\n",
    "    print(buckets)"
   ]
  },
  {
   "cell_type": "code",
   "execution_count": 7,
   "metadata": {},
   "outputs": [
    {
     "name": "stdout",
     "output_type": "stream",
     "text": [
      "[<Bucket: eu.artifacts.solid-century-301518.appspot.com>, <Bucket: hart-bucket>, <Bucket: solid-century-301518.appspot.com>, <Bucket: staging.solid-century-301518.appspot.com>]\n"
     ]
    }
   ],
   "source": [
    "# check authentication\n",
    "implicit()"
   ]
  },
  {
   "cell_type": "code",
   "execution_count": 8,
   "metadata": {},
   "outputs": [],
   "source": [
    "file_to_transcribe = r\"C:\\Users\\20174721\\Downloads\\dutch-recording.flac\""
   ]
  },
  {
   "cell_type": "code",
   "execution_count": 9,
   "metadata": {},
   "outputs": [],
   "source": [
    "def transcribe_file(speech_file, sl):\n",
    "    \"\"\"Transcribe the given audio file.\"\"\"\n",
    "    client = speech.SpeechClient()\n",
    "\n",
    "    with io.open(speech_file, \"rb\") as audio_file:\n",
    "        content = audio_file.read()\n",
    "\n",
    "    audio = speech.RecognitionAudio(content=content)\n",
    "    config = speech.RecognitionConfig(\n",
    "        encoding=speech.RecognitionConfig.AudioEncoding.FLAC,\n",
    "        language_code=sl,\n",
    "    )\n",
    "\n",
    "    response = client.recognize(config=config, audio=audio)\n",
    "\n",
    "    # Each result is for a consecutive portion of the audio. Iterate through\n",
    "    # them to get the transcripts for the entire audio file.\n",
    "    return response.results"
   ]
  },
  {
   "cell_type": "code",
   "execution_count": 10,
   "metadata": {},
   "outputs": [],
   "source": [
    "def translate(sl, tl, text):\n",
    "    if isinstance(text, six.binary_type):\n",
    "        text = text.decode(\"utf-8\")\n",
    "        \n",
    "    # Text can also be a sequence of strings, in which case this method\n",
    "    # will return a sequence of results for each text.\n",
    "    result = translate_client.translate(text, source_language=sl, target_language=tl)\n",
    "\n",
    "    return result[\"translatedText\"]"
   ]
  },
  {
   "cell_type": "code",
   "execution_count": 11,
   "metadata": {},
   "outputs": [],
   "source": [
    "def transform_into_phonemes(text):\n",
    "    arpabet = nltk.corpus.cmudict.dict()\n",
    "    \n",
    "    for word in text.split():\n",
    "        print(arpabet[word.lower()])"
   ]
  },
  {
   "cell_type": "code",
   "execution_count": 12,
   "metadata": {},
   "outputs": [],
   "source": [
    "def transcribe_translate_transform_and_transcend(file, sl, tl):\n",
    "    transcript = transcribe_file(file, sl)\n",
    "    \n",
    "    for sentence in transcript:\n",
    "        translation = translate(sl, tl, sentence.alternatives[0].transcript)\n",
    "        print(translation)\n",
    "        transform_into_phonemes(translation)"
   ]
  },
  {
   "cell_type": "code",
   "execution_count": 13,
   "metadata": {},
   "outputs": [
    {
     "name": "stdout",
     "output_type": "stream",
     "text": [
      "We had said before the holiday that we would be ready in two weeks\n",
      "[['W', 'IY1']]\n",
      "[['HH', 'AE1', 'D']]\n",
      "[['S', 'EH1', 'D']]\n",
      "[['B', 'IH0', 'F', 'AO1', 'R'], ['B', 'IY2', 'F', 'AO1', 'R']]\n",
      "[['DH', 'AH0'], ['DH', 'AH1'], ['DH', 'IY0']]\n",
      "[['HH', 'AA1', 'L', 'AH0', 'D', 'EY2'], ['HH', 'AA1', 'L', 'IH0', 'D', 'EY2']]\n",
      "[['DH', 'AE1', 'T'], ['DH', 'AH0', 'T']]\n",
      "[['W', 'IY1']]\n",
      "[['W', 'UH1', 'D']]\n",
      "[['B', 'IY1'], ['B', 'IY0']]\n",
      "[['R', 'EH1', 'D', 'IY0']]\n",
      "[['IH0', 'N'], ['IH1', 'N']]\n",
      "[['T', 'UW1']]\n",
      "[['W', 'IY1', 'K', 'S']]\n"
     ]
    }
   ],
   "source": [
    "transcribe_translate_transform_and_transcend(file_to_transcribe, \"nl\", \"en\")"
   ]
  }
 ],
 "metadata": {
  "kernelspec": {
   "display_name": "Python 3",
   "language": "python",
   "name": "python3"
  },
  "language_info": {
   "codemirror_mode": {
    "name": "ipython",
    "version": 3
   },
   "file_extension": ".py",
   "mimetype": "text/x-python",
   "name": "python",
   "nbconvert_exporter": "python",
   "pygments_lexer": "ipython3",
   "version": "3.7.0"
  }
 },
 "nbformat": 4,
 "nbformat_minor": 2
}
